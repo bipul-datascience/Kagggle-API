{
 "cells": [
  {
   "cell_type": "code",
   "execution_count": 1,
   "metadata": {},
   "outputs": [
    {
     "name": "stdout",
     "output_type": "stream",
     "text": [
      "Collecting kaggle\n",
      "  Downloading kaggle-1.5.10.tar.gz (59 kB)\n",
      "\u001b[K     |████████████████████████████████| 59 kB 276 kB/s eta 0:00:01\n",
      "\u001b[?25hRequirement already satisfied: six>=1.10 in /home/bipul/anaconda3/lib/python3.8/site-packages (from kaggle) (1.15.0)\n",
      "Requirement already satisfied: certifi in /home/bipul/anaconda3/lib/python3.8/site-packages (from kaggle) (2020.6.20)\n",
      "Requirement already satisfied: python-dateutil in /home/bipul/anaconda3/lib/python3.8/site-packages (from kaggle) (2.8.1)\n",
      "Requirement already satisfied: requests in /home/bipul/anaconda3/lib/python3.8/site-packages (from kaggle) (2.24.0)\n",
      "Requirement already satisfied: tqdm in /home/bipul/anaconda3/lib/python3.8/site-packages (from kaggle) (4.47.0)\n",
      "Collecting python-slugify\n",
      "  Downloading python-slugify-4.0.1.tar.gz (11 kB)\n",
      "Requirement already satisfied: urllib3 in /home/bipul/anaconda3/lib/python3.8/site-packages (from kaggle) (1.25.9)\n",
      "Requirement already satisfied: idna<3,>=2.5 in /home/bipul/anaconda3/lib/python3.8/site-packages (from requests->kaggle) (2.10)\n",
      "Requirement already satisfied: chardet<4,>=3.0.2 in /home/bipul/anaconda3/lib/python3.8/site-packages (from requests->kaggle) (3.0.4)\n",
      "Collecting text-unidecode>=1.3\n",
      "  Downloading text_unidecode-1.3-py2.py3-none-any.whl (78 kB)\n",
      "\u001b[K     |████████████████████████████████| 78 kB 120 kB/s eta 0:00:01\n",
      "\u001b[?25hBuilding wheels for collected packages: kaggle, python-slugify\n",
      "  Building wheel for kaggle (setup.py) ... \u001b[?25ldone\n",
      "\u001b[?25h  Created wheel for kaggle: filename=kaggle-1.5.10-py3-none-any.whl size=73269 sha256=3f50b7615f99bca64639e1e39354dd075b3e2a913e0125d744c0baadeae1db9a\n",
      "  Stored in directory: /home/bipul/.cache/pip/wheels/a6/c1/5e/2b235e19b52c15ad35812881f8de4461399907e219c03bf7b5\n",
      "  Building wheel for python-slugify (setup.py) ... \u001b[?25ldone\n",
      "\u001b[?25h  Created wheel for python-slugify: filename=python_slugify-4.0.1-py2.py3-none-any.whl size=6767 sha256=9e8244943a48982acf126baa711f53b5aa9f50f36599d905148212675339d3c0\n",
      "  Stored in directory: /home/bipul/.cache/pip/wheels/91/4d/4f/e740a68c215791688c46c4d6251770a570e8dfea91af1acb5c\n",
      "Successfully built kaggle python-slugify\n",
      "Installing collected packages: text-unidecode, python-slugify, kaggle\n",
      "Successfully installed kaggle-1.5.10 python-slugify-4.0.1 text-unidecode-1.3\n",
      "\u001b[33mWARNING: You are using pip version 20.2.3; however, version 20.3.3 is available.\n",
      "You should consider upgrading via the '/home/bipul/anaconda3/bin/python -m pip install --upgrade pip' command.\u001b[0m\n"
     ]
    }
   ],
   "source": [
    "#install kaggle\n",
    "!pip install kaggle"
   ]
  },
  {
   "cell_type": "code",
   "execution_count": 2,
   "metadata": {},
   "outputs": [],
   "source": [
    "#make a folder name kaggle\n",
    "!mkdir ~/.kaggle\n"
   ]
  },
  {
   "cell_type": "markdown",
   "metadata": {},
   "source": [
    "then go to kaggle account and then api section first do expire api token then create new api token then a api named kaggle.json will download in Downloads section"
   ]
  },
  {
   "cell_type": "code",
   "execution_count": 3,
   "metadata": {},
   "outputs": [],
   "source": [
    "#then copy kaggle.json file from download to .kaggle folder\n",
    "!cp /home/bipul/Downloads/kaggle.json /home/bipul/.kaggle/kaggle.json "
   ]
  },
  {
   "cell_type": "code",
   "execution_count": 4,
   "metadata": {},
   "outputs": [
    {
     "name": "stdout",
     "output_type": "stream",
     "text": [
      "kaggle.json\n"
     ]
    }
   ],
   "source": [
    "#check the api kaggle.json file in .kaggle folder\n",
    "!cd /home/bipul/.kaggle/ && ls"
   ]
  },
  {
   "cell_type": "code",
   "execution_count": 5,
   "metadata": {},
   "outputs": [
    {
     "name": "stdout",
     "output_type": "stream",
     "text": [
      "Warning: Your Kaggle API key is readable by other users on this system! To fix this, you can run 'chmod 600 /home/bipul/.kaggle/kaggle.json'\n",
      "ref                                                        title                                             size  lastUpdated          downloadCount  voteCount  usabilityRating  \n",
      "---------------------------------------------------------  -----------------------------------------------  -----  -------------------  -------------  ---------  ---------------  \n",
      "hmavrodiev/london-bike-sharing-dataset                     London bike sharing dataset                      165KB  2019-10-10 12:49:37          10695        235  1.0              \n",
      "marklvl/bike-sharing-dataset                               Bike Sharing in Washington D.C. Dataset          573KB  2018-05-28 11:31:09           8450        156  0.7058824        \n",
      "lakshmi25npathi/bike-sharing-dataset                       Bike Sharing Dataset                             286KB  2019-03-03 18:14:35           1055         13  0.64705884       \n",
      "jolasa/bay-area-bike-sharing-trips                         Bay Area Bike Sharing Trips                       15MB  2019-07-05 12:23:52            765         36  1.0              \n",
      "gauravduttakiit/bike-sharing                               Bike Sharing                                      21KB  2020-07-20 14:09:35             81          7  0.47058824       \n",
      "edenau/london-bike-sharing-system-data                     London Bike Sharing System                        18MB  2019-01-15 18:27:16            896         20  0.7941176        \n",
      "samratp/bikeshare-analysis                                 BikeShare Analysis                                12MB  2018-01-03 03:23:27           1073         18  0.7352941        \n",
      "janellchao/bike-sharing                                    Bike Sharing                                     263KB  2018-04-29 23:30:18            246          6  0.47058824       \n",
      "gspmoreira/articles-sharing-reading-from-cit-deskdrop      Articles sharing and reading from CI&T DeskDrop    8MB  2017-08-27 21:33:01           8858        123  0.8235294        \n",
      "alvarolopez/tusbic                                         Tusbic Santander                                   3MB  2018-03-21 17:52:51            171         12  0.8235294        \n",
      "aubertsigouin/biximtl                                      BIXI Montreal (public bicycle sharing system)    166MB  2017-12-01 23:25:46           1214         45  0.7058824        \n",
      "jackywang529/toronto-bikeshare-data                        Toronto Bikeshare Data                            58MB  2020-02-04 19:21:42           2231         45  0.7058824        \n",
      "yingwurenjian/chicago-divvy-bicycle-sharing-data           Chicago Divvy Bicycle Sharing Data               629MB  2018-02-26 19:21:31           4279        108  0.7352941        \n",
      "juliajemals/bike-sharing-washington-dc                     Bike Sharing Washington DC                       107KB  2020-06-09 15:43:38            135          3  1.0              \n",
      "contactprad/bike-share-daily-data                          Bike Share Daily Data                            284KB  2017-07-24 13:38:17           2150         20  0.7058824        \n",
      "archit9406/bike-sharing                                    bike-rental dataset                              284KB  2020-07-18 05:03:59            150          9  0.9705882        \n",
      "poornimakeshavaiah/bikesharing                             Bike Sharing                                      21KB  2020-08-08 18:41:34             16          2  0.5294118        \n",
      "zeeshanmulla/bike-sharing-system                           Bike Sharing System                              174KB  2020-01-06 09:32:45             51          2  0.61764705       \n",
      "animeshnareda/bike-sharing-dataset-for-linear-regression   bike sharing dataset for linear regression        879B  2020-05-31 13:46:58             74         11  0.25             \n",
      "joseguilhermelopes/bike-sharing-system-in-brasilia-brazil  Bike Sharing System in Brasilia, Brazil            5MB  2018-10-11 12:21:33            151          6  0.7647059        \n"
     ]
    }
   ],
   "source": [
    "#then search the list of specific dataset with s tag\n",
    "!kaggle datasets list -s 'Bike sharing Dataset'"
   ]
  },
  {
   "cell_type": "code",
   "execution_count": 6,
   "metadata": {},
   "outputs": [
    {
     "name": "stdout",
     "output_type": "stream",
     "text": [
      "Warning: Your Kaggle API key is readable by other users on this system! To fix this, you can run 'chmod 600 /home/bipul/.kaggle/kaggle.json'\n",
      "Downloading london-bike-sharing-dataset.zip to /home/bipul/Desktop/Kaggle kernel\n",
      "  0%|                                                | 0.00/165k [00:00<?, ?B/s]\n",
      "100%|████████████████████████████████████████| 165k/165k [00:00<00:00, 1.77MB/s]\n"
     ]
    }
   ],
   "source": [
    "#then download the specific dataset\n",
    "!kaggle datasets download -d 'hmavrodiev/london-bike-sharing-dataset'"
   ]
  },
  {
   "cell_type": "code",
   "execution_count": 10,
   "metadata": {},
   "outputs": [
    {
     "name": "stdout",
     "output_type": "stream",
     "text": [
      "Archive:  london-bike-sharing-dataset.zip\n",
      "  inflating: Kaggle/london_merged.csv  \n"
     ]
    }
   ],
   "source": [
    "#now we have to unzip the dataset for unziping the dataset we have to run \"sudo apt-get install unzip\" in terminal\n",
    "#and then run followin code specify the folder name where it will unzip\n",
    "!unzip london-bike-sharing-dataset.zip -d Kaggle/"
   ]
  },
  {
   "cell_type": "code",
   "execution_count": 14,
   "metadata": {},
   "outputs": [],
   "source": [
    "#checking wheather dataset will loaded or not \n",
    "import pandas as pd\n",
    "df=pd.read_csv('Kaggle/london_merged.csv')"
   ]
  },
  {
   "cell_type": "code",
   "execution_count": 15,
   "metadata": {},
   "outputs": [
    {
     "data": {
      "text/html": [
       "<div>\n",
       "<style scoped>\n",
       "    .dataframe tbody tr th:only-of-type {\n",
       "        vertical-align: middle;\n",
       "    }\n",
       "\n",
       "    .dataframe tbody tr th {\n",
       "        vertical-align: top;\n",
       "    }\n",
       "\n",
       "    .dataframe thead th {\n",
       "        text-align: right;\n",
       "    }\n",
       "</style>\n",
       "<table border=\"1\" class=\"dataframe\">\n",
       "  <thead>\n",
       "    <tr style=\"text-align: right;\">\n",
       "      <th></th>\n",
       "      <th>timestamp</th>\n",
       "      <th>cnt</th>\n",
       "      <th>t1</th>\n",
       "      <th>t2</th>\n",
       "      <th>hum</th>\n",
       "      <th>wind_speed</th>\n",
       "      <th>weather_code</th>\n",
       "      <th>is_holiday</th>\n",
       "      <th>is_weekend</th>\n",
       "      <th>season</th>\n",
       "    </tr>\n",
       "  </thead>\n",
       "  <tbody>\n",
       "    <tr>\n",
       "      <th>0</th>\n",
       "      <td>2015-01-04 00:00:00</td>\n",
       "      <td>182</td>\n",
       "      <td>3.0</td>\n",
       "      <td>2.0</td>\n",
       "      <td>93.0</td>\n",
       "      <td>6.0</td>\n",
       "      <td>3.0</td>\n",
       "      <td>0.0</td>\n",
       "      <td>1.0</td>\n",
       "      <td>3.0</td>\n",
       "    </tr>\n",
       "    <tr>\n",
       "      <th>1</th>\n",
       "      <td>2015-01-04 01:00:00</td>\n",
       "      <td>138</td>\n",
       "      <td>3.0</td>\n",
       "      <td>2.5</td>\n",
       "      <td>93.0</td>\n",
       "      <td>5.0</td>\n",
       "      <td>1.0</td>\n",
       "      <td>0.0</td>\n",
       "      <td>1.0</td>\n",
       "      <td>3.0</td>\n",
       "    </tr>\n",
       "    <tr>\n",
       "      <th>2</th>\n",
       "      <td>2015-01-04 02:00:00</td>\n",
       "      <td>134</td>\n",
       "      <td>2.5</td>\n",
       "      <td>2.5</td>\n",
       "      <td>96.5</td>\n",
       "      <td>0.0</td>\n",
       "      <td>1.0</td>\n",
       "      <td>0.0</td>\n",
       "      <td>1.0</td>\n",
       "      <td>3.0</td>\n",
       "    </tr>\n",
       "    <tr>\n",
       "      <th>3</th>\n",
       "      <td>2015-01-04 03:00:00</td>\n",
       "      <td>72</td>\n",
       "      <td>2.0</td>\n",
       "      <td>2.0</td>\n",
       "      <td>100.0</td>\n",
       "      <td>0.0</td>\n",
       "      <td>1.0</td>\n",
       "      <td>0.0</td>\n",
       "      <td>1.0</td>\n",
       "      <td>3.0</td>\n",
       "    </tr>\n",
       "    <tr>\n",
       "      <th>4</th>\n",
       "      <td>2015-01-04 04:00:00</td>\n",
       "      <td>47</td>\n",
       "      <td>2.0</td>\n",
       "      <td>0.0</td>\n",
       "      <td>93.0</td>\n",
       "      <td>6.5</td>\n",
       "      <td>1.0</td>\n",
       "      <td>0.0</td>\n",
       "      <td>1.0</td>\n",
       "      <td>3.0</td>\n",
       "    </tr>\n",
       "  </tbody>\n",
       "</table>\n",
       "</div>"
      ],
      "text/plain": [
       "             timestamp  cnt   t1   t2    hum  wind_speed  weather_code  \\\n",
       "0  2015-01-04 00:00:00  182  3.0  2.0   93.0         6.0           3.0   \n",
       "1  2015-01-04 01:00:00  138  3.0  2.5   93.0         5.0           1.0   \n",
       "2  2015-01-04 02:00:00  134  2.5  2.5   96.5         0.0           1.0   \n",
       "3  2015-01-04 03:00:00   72  2.0  2.0  100.0         0.0           1.0   \n",
       "4  2015-01-04 04:00:00   47  2.0  0.0   93.0         6.5           1.0   \n",
       "\n",
       "   is_holiday  is_weekend  season  \n",
       "0         0.0         1.0     3.0  \n",
       "1         0.0         1.0     3.0  \n",
       "2         0.0         1.0     3.0  \n",
       "3         0.0         1.0     3.0  \n",
       "4         0.0         1.0     3.0  "
      ]
     },
     "execution_count": 15,
     "metadata": {},
     "output_type": "execute_result"
    }
   ],
   "source": [
    "df.head()"
   ]
  },
  {
   "cell_type": "code",
   "execution_count": null,
   "metadata": {},
   "outputs": [],
   "source": []
  }
 ],
 "metadata": {
  "kernelspec": {
   "display_name": "Python 3",
   "language": "python",
   "name": "python3"
  },
  "language_info": {
   "codemirror_mode": {
    "name": "ipython",
    "version": 3
   },
   "file_extension": ".py",
   "mimetype": "text/x-python",
   "name": "python",
   "nbconvert_exporter": "python",
   "pygments_lexer": "ipython3",
   "version": "3.8.3"
  }
 },
 "nbformat": 4,
 "nbformat_minor": 4
}
